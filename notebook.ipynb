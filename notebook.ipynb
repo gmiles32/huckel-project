{
 "cells": [
  {
   "attachments": {},
   "cell_type": "markdown",
   "metadata": {},
   "source": [
    "# Prelimary"
   ]
  },
  {
   "cell_type": "code",
   "execution_count": 212,
   "metadata": {},
   "outputs": [],
   "source": [
    "import numpy as np\n",
    "import pandas as pd\n",
    "from scipy.optimize import curve_fit\n",
    "import matplotlib.pyplot as plt"
   ]
  },
  {
   "cell_type": "code",
   "execution_count": 213,
   "metadata": {},
   "outputs": [],
   "source": [
    "def huckel_energy(matrix):\n",
    "  \"\"\"\n",
    "  Get energy from Huckel matrix. Diagonalizes matrix, sums eigenvalues and\n",
    "  returns the total energy.\n",
    "  \"\"\"\n",
    "  topology = np.array(matrix)\n",
    "  eigenvalues,eigenvectors=np.linalg.eig(topology)\n",
    "  idx = eigenvalues.argsort()[::-1]   \n",
    "  eigenvalues = eigenvalues[idx]\n",
    "  return eigenvalues, eigenvectors"
   ]
  },
  {
   "attachments": {},
   "cell_type": "markdown",
   "metadata": {},
   "source": [
    "# HMO $\\Delta E$ for linear portion of dyes"
   ]
  },
  {
   "attachments": {},
   "cell_type": "markdown",
   "metadata": {},
   "source": [
    "## Analytical"
   ]
  },
  {
   "attachments": {},
   "cell_type": "markdown",
   "metadata": {},
   "source": [
    "Bahnick defined the HOMO-LUMO gap for a linear polyene as\n",
    "\n",
    "$\\Delta E = -4 \\beta \\sin{\\frac{\\pi}{2(n + 1)}}$\n",
    "\n",
    "Where $n$ is the number of conjugated atoms in the chain. This equation comes directly from the Huckel Model. For molecular orbita $k$, the energy $E_k$ can be found by\n",
    "\n",
    "$E_k = \\alpha + 2 \\beta \\cos{\\frac{(k+1)\\pi}{n + 1}}$\n",
    "\n",
    "Where $k = 0,1,...,N-1$. Therefore, if the HOMO-LUMO gap is the difference between the $k$ and $k+1$ MO, $\\Delta E$ would be\n",
    "\n",
    "$E_{k+1} - E_k = \\Delta E = \\left( \\alpha + 2 \\beta \\cos{\\frac{(k+2)\\pi}{N + 1}} \\right) - \\left( \\alpha + 2 \\beta \\cos{\\frac{(k+1)\\pi}{n + 1}} \\right)$\n",
    "\n",
    "When $k = \\frac{n}{2}$\n",
    "\n",
    "$\\Delta E = -4 \\beta \\sin{\\frac{\\pi}{2(n + 1)}}$\n",
    "\n",
    "Ref: Quantum Mechanics for Organic Chemists. Zimmerman, H., Academic Press, New York, 1975."
   ]
  },
  {
   "cell_type": "code",
   "execution_count": 214,
   "metadata": {},
   "outputs": [],
   "source": [
    "# See equation 1 from poster\n",
    "def dE_paper(x, b):\n",
    "  return -4 * b * np.sin(np.pi / (2 * (x + 1)))"
   ]
  },
  {
   "cell_type": "code",
   "execution_count": 215,
   "metadata": {},
   "outputs": [],
   "source": [
    "# X is the number of conjugated atoms, so carbons + nitrogens\n",
    "xdata = np.array([5, 7, 9, 9, 11, 13])\n",
    "# The experimental wavelength in nm\n",
    "lambdas = np.array([523.0, 604.0, 589.5, 706.0, 706.0, 814.0]) \n",
    "# convert to energy, J/molecule\n",
    "lambdas = lambdas * 10**-9 # wavelength in meters\n",
    "ydata = 6.626e-34 * 2.99e8 / lambdas # convert to joules"
   ]
  },
  {
   "cell_type": "code",
   "execution_count": 216,
   "metadata": {},
   "outputs": [
    {
     "name": "stdout",
     "output_type": "stream",
     "text": [
      "Beta is -63.173 kcal/mol or -2.741 eV\n"
     ]
    }
   ],
   "source": [
    "# Fit equation to experimental data\n",
    "parameters, covariance = curve_fit(dE_paper, xdata, ydata)\n",
    "# Extract beta\n",
    "beta = parameters[0] / 4184 * 6.02e23 # convert from joules to kcal/mol\n",
    "print(\"Beta is {:.3f} kcal/mol or {:.3f} eV\".format(beta, parameters[0] * 6.242e+18))"
   ]
  },
  {
   "cell_type": "code",
   "execution_count": 217,
   "metadata": {},
   "outputs": [],
   "source": [
    "# Define beta in eV for following code\n",
    "b = -2.741 # eV"
   ]
  },
  {
   "attachments": {},
   "cell_type": "markdown",
   "metadata": {},
   "source": [
    "## Numerical"
   ]
  },
  {
   "attachments": {},
   "cell_type": "markdown",
   "metadata": {},
   "source": [
    "### Matrices"
   ]
  },
  {
   "cell_type": "code",
   "execution_count": 218,
   "metadata": {},
   "outputs": [],
   "source": [
    "# p3 linear\n",
    "matrix_p3_linear = np.zeros((5,5))"
   ]
  },
  {
   "cell_type": "code",
   "execution_count": 219,
   "metadata": {},
   "outputs": [],
   "source": [
    "# Atom 0 interactions (Nitrogen)\n",
    "matrix_p3_linear[0][1] = b\n",
    "\n",
    "# Atom 1 interations\n",
    "matrix_p3_linear[1][0] = b\n",
    "matrix_p3_linear[1][2] = b\n",
    "\n",
    "# Atom 2 interactions\n",
    "matrix_p3_linear[2][1] = b\n",
    "matrix_p3_linear[2][3] = b\n",
    "\n",
    "# Atom 3 interactions\n",
    "matrix_p3_linear[3][2] = b\n",
    "matrix_p3_linear[3][4] = b\n",
    "\n",
    "# Atom 4 interactions (Nitrogen)\n",
    "matrix_p3_linear[4][3] = b"
   ]
  },
  {
   "cell_type": "code",
   "execution_count": 220,
   "metadata": {},
   "outputs": [],
   "source": [
    "# p5 linear\n",
    "matrix_p5_linear = np.zeros((7,7))"
   ]
  },
  {
   "cell_type": "code",
   "execution_count": 221,
   "metadata": {},
   "outputs": [],
   "source": [
    "# Atom 0 interactions (Nitrogen)\n",
    "matrix_p5_linear[0][1] = b\n",
    "\n",
    "# Atom 1 interations\n",
    "matrix_p5_linear[1][0] = b\n",
    "matrix_p5_linear[1][2] = b\n",
    "\n",
    "# Atom 2 interactions\n",
    "matrix_p5_linear[2][1] = b\n",
    "matrix_p5_linear[2][3] = b\n",
    "\n",
    "# Atom 3 interactions\n",
    "matrix_p5_linear[3][2] = b\n",
    "matrix_p5_linear[3][4] = b\n",
    "\n",
    "# Atom 4 interactions\n",
    "matrix_p5_linear[4][3] = b\n",
    "matrix_p5_linear[4][5] = b\n",
    "\n",
    "# Atom 5 interactions\n",
    "matrix_p5_linear[5][4] = b\n",
    "matrix_p5_linear[5][6] = b\n",
    "\n",
    "# Atom 5 interactions (Nitrogen)\n",
    "matrix_p5_linear[6][5] = b"
   ]
  },
  {
   "cell_type": "code",
   "execution_count": 222,
   "metadata": {},
   "outputs": [],
   "source": [
    "# p7 linear (and q7)\n",
    "matrix_p7_linear = np.zeros((9,9))"
   ]
  },
  {
   "cell_type": "code",
   "execution_count": 223,
   "metadata": {},
   "outputs": [],
   "source": [
    "# Atom 0 interactions (Nitrogen)\n",
    "matrix_p7_linear[0][1] = b\n",
    "\n",
    "# Atom 1 interations\n",
    "matrix_p7_linear[1][0] = b\n",
    "matrix_p7_linear[1][2] = b\n",
    "\n",
    "# Atom 2 interactions\n",
    "matrix_p7_linear[2][1] = b\n",
    "matrix_p7_linear[2][3] = b\n",
    "\n",
    "# Atom 3 interactions\n",
    "matrix_p7_linear[3][2] = b\n",
    "matrix_p7_linear[3][4] = b\n",
    "\n",
    "# Atom 4 interactions\n",
    "matrix_p7_linear[4][3] = b\n",
    "matrix_p7_linear[4][5] = b\n",
    "\n",
    "# Atom 5 interactions\n",
    "matrix_p7_linear[5][4] = b\n",
    "matrix_p7_linear[5][6] = b\n",
    "\n",
    "# Atom 6 interactions\n",
    "matrix_p7_linear[6][5] = b\n",
    "matrix_p7_linear[6][7] = b\n",
    "\n",
    "# Atom 7 interactions\n",
    "matrix_p7_linear[7][6] = b\n",
    "matrix_p7_linear[7][8] = b\n",
    "\n",
    "# Atom 8 interactions (Nitrogen)\n",
    "matrix_p7_linear[8][7] = b"
   ]
  },
  {
   "cell_type": "code",
   "execution_count": 224,
   "metadata": {},
   "outputs": [],
   "source": [
    "# q9 linear\n",
    "matrix_q9_linear = np.zeros((11,11))"
   ]
  },
  {
   "cell_type": "code",
   "execution_count": 225,
   "metadata": {},
   "outputs": [],
   "source": [
    "# Atom 0 interactions (Nitrogen)\n",
    "matrix_q9_linear[0][1] = b\n",
    "\n",
    "# Atom 1 interations\n",
    "matrix_q9_linear[1][0] = b\n",
    "matrix_q9_linear[1][2] = b\n",
    "\n",
    "# Atom 2 interactions\n",
    "matrix_q9_linear[2][1] = b\n",
    "matrix_q9_linear[2][3] = b\n",
    "\n",
    "# Atom 3 interactions\n",
    "matrix_q9_linear[3][2] = b\n",
    "matrix_q9_linear[3][4] = b\n",
    "\n",
    "# Atom 4 interactions\n",
    "matrix_q9_linear[4][3] = b\n",
    "matrix_q9_linear[4][5] = b\n",
    "\n",
    "# Atom 5 interactions\n",
    "matrix_q9_linear[5][4] = b\n",
    "matrix_q9_linear[5][6] = b\n",
    "\n",
    "# Atom 6 interactions\n",
    "matrix_q9_linear[6][5] = b\n",
    "matrix_q9_linear[6][7] = b\n",
    "\n",
    "# Atom 7 interactions\n",
    "matrix_q9_linear[7][6] = b\n",
    "matrix_q9_linear[7][8] = b\n",
    "\n",
    "# Atom 8 interactions \n",
    "matrix_q9_linear[8][7] = b\n",
    "matrix_q9_linear[8][9] = b\n",
    "\n",
    "# Atom 9 interactions\n",
    "matrix_q9_linear[9][8] = b\n",
    "matrix_q9_linear[9][10] = b\n",
    "\n",
    "# Atom 10 interactions (Nitrogen)\n",
    "matrix_q9_linear[10][9] = b"
   ]
  },
  {
   "cell_type": "code",
   "execution_count": 226,
   "metadata": {},
   "outputs": [],
   "source": [
    "# q11 linear\n",
    "matrix_q11_linear = np.zeros((13,13))"
   ]
  },
  {
   "cell_type": "code",
   "execution_count": 227,
   "metadata": {},
   "outputs": [],
   "source": [
    "# Atom 0 interactions (Nitrogen)\n",
    "matrix_q11_linear[0][1] = b\n",
    "\n",
    "# Atom 1 interations\n",
    "matrix_q11_linear[1][0] = b\n",
    "matrix_q11_linear[1][2] = b\n",
    "\n",
    "# Atom 2 interactions\n",
    "matrix_q11_linear[2][1] = b\n",
    "matrix_q11_linear[2][3] = b\n",
    "\n",
    "# Atom 3 interactions\n",
    "matrix_q11_linear[3][2] = b\n",
    "matrix_q11_linear[3][4] = b\n",
    "\n",
    "# Atom 4 interactions\n",
    "matrix_q11_linear[4][3] = b\n",
    "matrix_q11_linear[4][5] = b\n",
    "\n",
    "# Atom 5 interactions\n",
    "matrix_q11_linear[5][4] = b\n",
    "matrix_q11_linear[5][6] = b\n",
    "\n",
    "# Atom 6 interactions\n",
    "matrix_q11_linear[6][5] = b\n",
    "matrix_q11_linear[6][7] = b\n",
    "\n",
    "# Atom 7 interactions\n",
    "matrix_q11_linear[7][6] = b\n",
    "matrix_q11_linear[7][8] = b\n",
    "\n",
    "# Atom 8 interactions \n",
    "matrix_q11_linear[8][7] = b\n",
    "matrix_q11_linear[8][9] = b\n",
    "\n",
    "# Atom 9 interactions\n",
    "matrix_q11_linear[9][8] = b\n",
    "matrix_q11_linear[9][10] = b\n",
    "\n",
    "# Atom 10 interactions\n",
    "matrix_q11_linear[10][9] = b\n",
    "matrix_q11_linear[10][11] = b\n",
    "\n",
    "# Atom 11 interactions\n",
    "matrix_q11_linear[11][10] = b\n",
    "matrix_q11_linear[11][12] = b\n",
    "\n",
    "# Atom 12 interactions (Nitrogen)\n",
    "matrix_q11_linear[12][11] = b"
   ]
  },
  {
   "attachments": {},
   "cell_type": "markdown",
   "metadata": {},
   "source": [
    "### Calculate $\\lambda_{max}$"
   ]
  },
  {
   "attachments": {},
   "cell_type": "markdown",
   "metadata": {},
   "source": [
    "The HOMO and LUMO were identified by counting the number of $\\pi$ electrons in the $\\pi$ system, and then filling the MOs accordingly. Or, the HOMO was the N/2 (rounded up) MO, and the LUMO was the N/2 + 1 (rounded up) MO. MO energies are found from the eigenvalues of the diagonlized matrices."
   ]
  },
  {
   "cell_type": "code",
   "execution_count": 228,
   "metadata": {},
   "outputs": [
    {
     "name": "stdout",
     "output_type": "stream",
     "text": [
      "[ 4.74755126e+00  2.74100000e+00 -3.49388824e-16 -2.74100000e+00\n",
      " -4.74755126e+00]\n"
     ]
    }
   ],
   "source": [
    "# Linear p3\n",
    "eigenvalues, eigenvectors = huckel_energy(matrix_p3_linear)\n",
    "print(eigenvalues)"
   ]
  },
  {
   "cell_type": "code",
   "execution_count": 229,
   "metadata": {},
   "outputs": [
    {
     "name": "stdout",
     "output_type": "stream",
     "text": [
      "Lambda max is 451.167 nm for the linear p3 dye\n"
     ]
    }
   ],
   "source": [
    "dE_p3_linear = 2.741 / 6.242e+18 # J\n",
    "lambda_p3_linear = 6.626e-34 * 2.99e8 / dE_p3_linear\n",
    "print(\"Lambda max is {:.3f} nm for the linear p3 dye\".format(lambda_p3_linear * 10**9))"
   ]
  },
  {
   "cell_type": "code",
   "execution_count": 230,
   "metadata": {},
   "outputs": [
    {
     "name": "stdout",
     "output_type": "stream",
     "text": [
      "[ 5.06470760e+00  3.87635937e+00  2.09787058e+00 -3.95680231e-16\n",
      " -2.09787058e+00 -3.87635937e+00 -5.06470760e+00]\n"
     ]
    }
   ],
   "source": [
    "# Linear p5\n",
    "eigenvalues, eigenvectors = huckel_energy(matrix_p5_linear)\n",
    "print(eigenvalues)"
   ]
  },
  {
   "cell_type": "code",
   "execution_count": 231,
   "metadata": {},
   "outputs": [
    {
     "name": "stdout",
     "output_type": "stream",
     "text": [
      "Lambda max is 589.442 nm for the linear p5 dye\n"
     ]
    }
   ],
   "source": [
    "dE_p5_linear = 2.098 / 6.242e+18 # J\n",
    "lambda_p5_linear = 6.626e-34 * 2.99e8 / dE_p5_linear\n",
    "print(\"Lambda max is {:.3f} nm for the linear p5 dye\".format(lambda_p5_linear * 10**9))"
   ]
  },
  {
   "cell_type": "code",
   "execution_count": 232,
   "metadata": {},
   "outputs": [
    {
     "name": "stdout",
     "output_type": "stream",
     "text": [
      "[ 5.21369182e+00  4.43503116e+00  3.22223875e+00  1.69403116e+00\n",
      "  1.38392167e-15 -1.69403116e+00 -3.22223875e+00 -4.43503116e+00\n",
      " -5.21369182e+00]\n"
     ]
    }
   ],
   "source": [
    "# Linear p7 (and q7)\n",
    "eigenvalues, eigenvectors = huckel_energy(matrix_p7_linear)\n",
    "print(eigenvalues)"
   ]
  },
  {
   "cell_type": "code",
   "execution_count": 233,
   "metadata": {},
   "outputs": [
    {
     "name": "stdout",
     "output_type": "stream",
     "text": [
      "Lambda max is 730.017 nm for the linear p7 (and q7) dye\n"
     ]
    }
   ],
   "source": [
    "dE_p7_linear = 1.694 / 6.242e+18 # J\n",
    "lambda_p7_linear = 6.626e-34 * 2.99e8 / dE_p7_linear\n",
    "print(\"Lambda max is {:.3f} nm for the linear p7 (and q7) dye\".format(lambda_p7_linear * 10**9))"
   ]
  },
  {
   "cell_type": "code",
   "execution_count": 234,
   "metadata": {},
   "outputs": [
    {
     "name": "stdout",
     "output_type": "stream",
     "text": [
      "[ 5.29520538e+00  4.74755126e+00  3.87635937e+00  2.74100000e+00\n",
      "  1.41884601e+00 -1.54473785e-16 -1.41884601e+00 -2.74100000e+00\n",
      " -3.87635937e+00 -4.74755126e+00 -5.29520538e+00]\n"
     ]
    }
   ],
   "source": [
    "# Linear q9\n",
    "eigenvalues, eigenvectors = huckel_energy(matrix_q9_linear)\n",
    "print(eigenvalues)"
   ]
  },
  {
   "cell_type": "code",
   "execution_count": 235,
   "metadata": {},
   "outputs": [
    {
     "name": "stdout",
     "output_type": "stream",
     "text": [
      "Lambda max is 871.493 nm for the linear q9 dye\n"
     ]
    }
   ],
   "source": [
    "dE_q9_linear = 1.419 / 6.242e+18 # J\n",
    "lambda_q9_linear = 6.626e-34 * 2.99e8 / dE_q9_linear\n",
    "print(\"Lambda max is {:.3f} nm for the linear q9 dye\".format(lambda_q9_linear * 10**9))"
   ]
  },
  {
   "cell_type": "code",
   "execution_count": 236,
   "metadata": {},
   "outputs": [
    {
     "name": "stdout",
     "output_type": "stream",
     "text": [
      "[ 5.34455481e+00  4.93911133e+00  4.28600019e+00  3.41797109e+00\n",
      "  2.37855066e+00  1.21985976e+00  1.98062732e-16 -1.21985976e+00\n",
      " -2.37855066e+00 -3.41797109e+00 -4.28600019e+00 -4.93911133e+00\n",
      " -5.34455481e+00]\n"
     ]
    }
   ],
   "source": [
    "# Linear q11\n",
    "eigenvalues, eigenvectors = huckel_energy(matrix_q11_linear)\n",
    "print(eigenvalues)"
   ]
  },
  {
   "cell_type": "code",
   "execution_count": 237,
   "metadata": {},
   "outputs": [
    {
     "name": "stdout",
     "output_type": "stream",
     "text": [
      "Lambda max is 1013.647 nm for the linear q11 dye\n"
     ]
    }
   ],
   "source": [
    "dE_q11_linear = 1.220 / 6.242e+18 # J\n",
    "lambda_q11_linear = 6.626e-34 * 2.99e8 / dE_q11_linear\n",
    "print(\"Lambda max is {:.3f} nm for the linear q11 dye\".format(lambda_q11_linear * 10**9))"
   ]
  },
  {
   "attachments": {},
   "cell_type": "markdown",
   "metadata": {},
   "source": [
    "## Results"
   ]
  },
  {
   "cell_type": "code",
   "execution_count": 238,
   "metadata": {},
   "outputs": [
    {
     "data": {
      "image/png": "[encoded data removed]",
      "text/plain": [
       "<Figure size 800x600 with 1 Axes>"
      ]
     },
     "metadata": {},
     "output_type": "display_data"
    }
   ],
   "source": [
    "plt.figure(figsize=((8,6)))\n",
    "parameters, covariance = curve_fit(dE_paper, xdata, ydata)\n",
    "plt.plot(xdata, ydata, 'o')\n",
    "plt.plot(xdata, dE_paper(xdata, parameters[0]), '--o')\n",
    "plt.plot([5,7,9,11,13], [dE_p3_linear, dE_p5_linear, dE_p7_linear, dE_q9_linear, dE_q11_linear], '--o')\n",
    "plt.xlabel(\"Number of conjugate atoms\")\n",
    "plt.ylabel(\"$\\Delta$ E (J)\")\n",
    "plt.legend([\"Experimental\", \"HMO Analytical\", \"HMO Numerical\"])\n",
    "plt.show()"
   ]
  },
  {
   "attachments": {},
   "cell_type": "markdown",
   "metadata": {},
   "source": [
    "__Figure 1__. HOMO-LUMO gap for polymethine dyes. The analytical and numerical approaches are very close in their predictions, and both fail to predict shift in ΔE for Q dyes."
   ]
  },
  {
   "attachments": {},
   "cell_type": "markdown",
   "metadata": {},
   "source": [
    "# HMO for whole dye molecules"
   ]
  },
  {
   "attachments": {},
   "cell_type": "markdown",
   "metadata": {},
   "source": [
    "## Matrices"
   ]
  },
  {
   "cell_type": "code",
   "execution_count": 239,
   "metadata": {},
   "outputs": [],
   "source": [
    "# Huckel matrix for dye P3\n",
    "matrix_p3 = np.zeros((21, 21))"
   ]
  },
  {
   "cell_type": "code",
   "execution_count": 240,
   "metadata": {},
   "outputs": [],
   "source": [
    "# Ring 1\n",
    "# Atom 0 interaction (Nitrogen)\n",
    "matrix_p3[0][9] = b\n",
    "matrix_p3[0][1] = b\n",
    "\n",
    "# Atom 1 interactions\n",
    "matrix_p3[1][0] = b\n",
    "matrix_p3[1][2] = b\n",
    "matrix_p3[1][6] = b\n",
    "\n",
    "# Atom 2 interactions\n",
    "matrix_p3[2][1] = b\n",
    "matrix_p3[2][3] = b\n",
    "\n",
    "# Atom 3 interactions\n",
    "matrix_p3[3][2] = b\n",
    "matrix_p3[3][4] = b\n",
    "\n",
    "# Atom 4 interactions\n",
    "matrix_p3[4][3] = b\n",
    "matrix_p3[4][5] = b\n",
    "\n",
    "# Atom 5 interactions\n",
    "matrix_p3[5][4] = b\n",
    "matrix_p3[5][6] = b\n",
    "\n",
    "# Atom 6 interactions\n",
    "matrix_p3[6][1] = b\n",
    "matrix_p3[6][5] = b\n",
    "matrix_p3[6][7] = b\n",
    "\n",
    "# Atom 7 interaction\n",
    "matrix_p3[7][6] = b\n",
    "matrix_p3[7][8] = b\n",
    "\n",
    "# Atom 8 interaction\n",
    "matrix_p3[8][7] = b\n",
    "matrix_p3[8][9] = b\n",
    "\n",
    "# Atom 9 interaction\n",
    "matrix_p3[9][0] = b\n",
    "matrix_p3[9][8] = b\n",
    "# Change with different path length\n",
    "matrix_p3[9][20]\n",
    "\n",
    "#  Ring 2\n",
    "# Atom 10 interaction (Nitrogen)\n",
    "matrix_p3[10][11] = b\n",
    "matrix_p3[10][19] = b\n",
    "\n",
    "# Atom 11 interactions\n",
    "matrix_p3[11][10] = b\n",
    "matrix_p3[11][12] = b\n",
    "matrix_p3[11][16] = b\n",
    "\n",
    "# Atom 12 interactions\n",
    "matrix_p3[12][11] = b\n",
    "matrix_p3[12][13] = b\n",
    "\n",
    "# Atom 13 interactions\n",
    "matrix_p3[13][12] = b\n",
    "matrix_p3[13][14] = b\n",
    "\n",
    "# Atom 14 interactions\n",
    "matrix_p3[14][13] = b\n",
    "matrix_p3[14][15] = b\n",
    "\n",
    "# Atom 15 interactions\n",
    "matrix_p3[15][14] = b\n",
    "matrix_p3[15][16] = b\n",
    "\n",
    "# Atom 16 interactions\n",
    "matrix_p3[16][11] = b\n",
    "matrix_p3[16][15] = b\n",
    "matrix_p3[16][17] = b\n",
    "\n",
    "# Atom 17 interaction\n",
    "matrix_p3[17][16] = b\n",
    "matrix_p3[17][18] = b\n",
    "\n",
    "# Atom 18 interaction\n",
    "matrix_p3[18][17] = b\n",
    "matrix_p3[18][19] = b\n",
    "\n",
    "# Atom 19 interaction\n",
    "matrix_p3[19][10] = b\n",
    "matrix_p3[19][18] = b\n",
    "# Change with different path length\n",
    "matrix_p3[19][20]\n",
    "\n",
    "# Atoms in chain\n",
    "# Atom 20 interactions\n",
    "matrix_p3[20][9] = b\n",
    "matrix_p3[20][19] = b\n",
    "\n",
    "# print(matrix_p3)"
   ]
  },
  {
   "cell_type": "code",
   "execution_count": 241,
   "metadata": {},
   "outputs": [],
   "source": [
    "# Huckel matrix for dye P5\n",
    "matrix_p5 = np.zeros((23, 23))"
   ]
  },
  {
   "cell_type": "code",
   "execution_count": 242,
   "metadata": {},
   "outputs": [],
   "source": [
    "# Ring 1\n",
    "# Atom 0 interaction (Nitrogen)\n",
    "matrix_p5[0][9] = b\n",
    "matrix_p5[0][1] = b\n",
    "\n",
    "# Atom 1 interactions\n",
    "matrix_p5[1][0] = b\n",
    "matrix_p5[1][2] = b\n",
    "matrix_p5[1][6] = b\n",
    "\n",
    "# Atom 2 interactions\n",
    "matrix_p5[2][1] = b\n",
    "matrix_p5[2][3] = b\n",
    "\n",
    "# Atom 3 interactions\n",
    "matrix_p5[3][2] = b\n",
    "matrix_p5[3][4] = b\n",
    "\n",
    "# Atom 4 interactions\n",
    "matrix_p5[4][3] = b\n",
    "matrix_p5[4][5] = b\n",
    "\n",
    "# Atom 5 interactions\n",
    "matrix_p5[5][4] = b\n",
    "matrix_p5[5][6] = b\n",
    "\n",
    "# Atom 6 interactions\n",
    "matrix_p5[6][1] = b\n",
    "matrix_p5[6][5] = b\n",
    "matrix_p5[6][7] = b\n",
    "\n",
    "# Atom 7 interaction\n",
    "matrix_p5[7][6] = b\n",
    "matrix_p5[7][8] = b\n",
    "\n",
    "# Atom 8 interaction\n",
    "matrix_p5[8][7] = b\n",
    "matrix_p5[8][9] = b\n",
    "\n",
    "# Atom 9 interaction\n",
    "matrix_p5[9][0] = b\n",
    "matrix_p5[9][8] = b\n",
    "# Change with different path length\n",
    "matrix_p5[9][20]\n",
    "\n",
    "#  Ring 2\n",
    "# Atom 10 interaction (Nitrogen)\n",
    "matrix_p5[10][11] = b\n",
    "matrix_p5[10][19] = b\n",
    "\n",
    "# Atom 11 interactions\n",
    "matrix_p5[11][10] = b\n",
    "matrix_p5[11][12] = b\n",
    "matrix_p5[11][16] = b\n",
    "\n",
    "# Atom 12 interactions\n",
    "matrix_p5[12][11] = b\n",
    "matrix_p5[12][13] = b\n",
    "\n",
    "# Atom 13 interactions\n",
    "matrix_p5[13][12] = b\n",
    "matrix_p5[13][14] = b\n",
    "\n",
    "# Atom 14 interactions\n",
    "matrix_p5[14][13] = b\n",
    "matrix_p5[14][15] = b\n",
    "\n",
    "# Atom 15 interactions\n",
    "matrix_p5[15][14] = b\n",
    "matrix_p5[15][16] = b\n",
    "\n",
    "# Atom 16 interactions\n",
    "matrix_p5[16][11] = b\n",
    "matrix_p5[16][15] = b\n",
    "matrix_p5[16][17] = b\n",
    "\n",
    "# Atom 17 interaction\n",
    "matrix_p5[17][16] = b\n",
    "matrix_p5[17][18] = b\n",
    "\n",
    "# Atom 18 interaction\n",
    "matrix_p5[18][17] = b\n",
    "matrix_p5[18][19] = b\n",
    "\n",
    "# Atom 19 interaction\n",
    "matrix_p5[19][10] = b\n",
    "matrix_p5[19][18] = b\n",
    "# Change with different path length\n",
    "matrix_p5[19][22]\n",
    "\n",
    "# Atoms in chain\n",
    "# Atom 20 interactions\n",
    "matrix_p5[20][9] = b\n",
    "matrix_p5[20][21] = b\n",
    "\n",
    "# Atom 21 interations\n",
    "matrix_p5[21][20] = b\n",
    "matrix_p5[21][22] = b\n",
    "\n",
    "# Atom 22 interactions\n",
    "matrix_p5[22][19] = b\n",
    "matrix_p5[22][21] = b\n",
    "\n",
    "# print(matrix_p5)"
   ]
  },
  {
   "cell_type": "code",
   "execution_count": 243,
   "metadata": {},
   "outputs": [],
   "source": [
    "# Huckel matrix for dye P7\n",
    "matrix_p7 = np.zeros((25, 25))"
   ]
  },
  {
   "cell_type": "code",
   "execution_count": 244,
   "metadata": {},
   "outputs": [],
   "source": [
    "# Ring 1\n",
    "# Atom 0 interaction (Nitrogen)\n",
    "matrix_p7[0][9] = b\n",
    "matrix_p7[0][1] = b\n",
    "# Atom 1 interactions\n",
    "matrix_p7[1][0] = b\n",
    "matrix_p7[1][2] = b\n",
    "matrix_p7[1][6] = b\n",
    "\n",
    "# Atom 2 interactions\n",
    "matrix_p7[2][1] = b\n",
    "matrix_p7[2][3] = b\n",
    "\n",
    "# Atom 3 interactions\n",
    "matrix_p7[3][2] = b\n",
    "matrix_p7[3][4] = b\n",
    "\n",
    "# Atom 4 interactions\n",
    "matrix_p7[4][3] = b\n",
    "matrix_p7[4][5] = b\n",
    "\n",
    "# Atom 5 interactions\n",
    "matrix_p7[5][4] = b\n",
    "matrix_p7[5][6] = b\n",
    "\n",
    "# Atom 6 interactions\n",
    "matrix_p7[6][1] = b\n",
    "matrix_p7[6][5] = b\n",
    "matrix_p7[6][7] = b\n",
    "\n",
    "# Atom 7 interaction\n",
    "matrix_p7[7][6] = b\n",
    "matrix_p7[7][8] = b\n",
    "\n",
    "# Atom 8 interaction\n",
    "matrix_p7[8][7] = b\n",
    "matrix_p7[8][9] = b\n",
    "\n",
    "# Atom 9 interaction\n",
    "matrix_p7[9][0] = b\n",
    "matrix_p7[9][8] = b\n",
    "# Change with different path length\n",
    "matrix_p7[9][20]\n",
    "\n",
    "#  Ring 2\n",
    "# Atom 10 interaction (Nitrogen)\n",
    "matrix_p7[10][11] = b\n",
    "matrix_p7[10][19] = b\n",
    "\n",
    "# Atom 11 interactions\n",
    "matrix_p7[11][10] = b\n",
    "matrix_p7[11][12] = b\n",
    "matrix_p7[11][16] = b\n",
    "\n",
    "# Atom 12 interactions\n",
    "matrix_p7[12][11] = b\n",
    "matrix_p7[12][13] = b\n",
    "\n",
    "# Atom 13 interactions\n",
    "matrix_p7[13][12] = b\n",
    "matrix_p7[13][14] = b\n",
    "\n",
    "# Atom 14 interactions\n",
    "matrix_p7[14][13] = b\n",
    "matrix_p7[14][15] = b\n",
    "\n",
    "# Atom 15 interactions\n",
    "matrix_p7[15][14] = b\n",
    "matrix_p7[15][16] = b\n",
    "\n",
    "# Atom 16 interactions\n",
    "matrix_p7[16][11] = b\n",
    "matrix_p7[16][15] = b\n",
    "matrix_p7[16][17] = b\n",
    "\n",
    "# Atom 17 interaction\n",
    "matrix_p7[17][16] = b\n",
    "matrix_p7[17][18] = b\n",
    "\n",
    "# Atom 18 interaction\n",
    "matrix_p7[18][17] = b\n",
    "matrix_p7[18][19] = b\n",
    "\n",
    "# Atom 19 interaction\n",
    "matrix_p7[19][10] = b\n",
    "matrix_p7[19][18] = b\n",
    "# Change with different path length\n",
    "matrix_p7[19][24]\n",
    "\n",
    "# Atoms in chain\n",
    "# Atom 20 interactions\n",
    "matrix_p7[20][9] = b\n",
    "matrix_p7[20][21] = b\n",
    "\n",
    "# Atom 21 interations\n",
    "matrix_p7[21][20] = b\n",
    "matrix_p7[21][22] = b\n",
    "\n",
    "# Atom 22 interactions\n",
    "matrix_p7[22][21] = b\n",
    "matrix_p7[22][23] = b\n",
    "\n",
    "# Atom 23 interactions\n",
    "matrix_p7[23][22] = b\n",
    "matrix_p7[23][24] = b\n",
    "\n",
    "# Atom 24 interactions\n",
    "matrix_p7[24][23] = b\n",
    "matrix_p7[24][19] = b\n",
    "\n",
    "#print(matrix_p7)"
   ]
  },
  {
   "cell_type": "code",
   "execution_count": 245,
   "metadata": {},
   "outputs": [],
   "source": [
    "# Huckel matrix for dye q7\n",
    "matrix_q7 = np.zeros((21, 21))"
   ]
  },
  {
   "cell_type": "code",
   "execution_count": 246,
   "metadata": {},
   "outputs": [],
   "source": [
    "# Ring 1\n",
    "# Atom 0 interaction (Nitrogen)\n",
    "matrix_q7[0][9] = b\n",
    "matrix_q7[0][1] = b\n",
    "\n",
    "# Atom 1 interactions\n",
    "matrix_q7[1][0] = b\n",
    "matrix_q7[1][2] = b\n",
    "matrix_q7[1][6] = b\n",
    "\n",
    "# Atom 2 interactions\n",
    "matrix_q7[2][1] = b\n",
    "matrix_q7[2][3] = b\n",
    "\n",
    "# Atom 3 interactions\n",
    "matrix_q7[3][2] = b\n",
    "matrix_q7[3][4] = b\n",
    "\n",
    "# Atom 4 interactions\n",
    "matrix_q7[4][3] = b\n",
    "matrix_q7[4][5] = b\n",
    "\n",
    "# Atom 5 interactions\n",
    "matrix_q7[5][4] = b\n",
    "matrix_q7[5][6] = b\n",
    "\n",
    "# Atom 6 interactions\n",
    "matrix_q7[6][1] = b\n",
    "matrix_q7[6][5] = b\n",
    "matrix_q7[6][7] = b\n",
    "\n",
    "# Atom 7 interaction\n",
    "matrix_q7[7][6] = b\n",
    "matrix_q7[7][8] = b\n",
    "# Change with different path length\n",
    "matrix_q7[7][20]\n",
    "\n",
    "# Atom 8 interaction\n",
    "matrix_q7[8][7] = b\n",
    "matrix_q7[8][9] = b\n",
    "\n",
    "# Atom 9 interaction\n",
    "matrix_q7[9][0] = b\n",
    "matrix_q7[9][8] = b\n",
    "\n",
    "#  Ring 2\n",
    "# Atom 10 interaction (Nitrogen)\n",
    "matrix_q7[10][11] = b\n",
    "matrix_q7[10][19] = b\n",
    "\n",
    "# Atom 11 interactions\n",
    "matrix_q7[11][10] = b\n",
    "matrix_q7[11][12] = b\n",
    "matrix_q7[11][16] = b\n",
    "\n",
    "# Atom 12 interactions\n",
    "matrix_q7[12][11] = b\n",
    "matrix_q7[12][13] = b\n",
    "\n",
    "# Atom 13 interactions\n",
    "matrix_q7[13][12] = b\n",
    "matrix_q7[13][14] = b\n",
    "\n",
    "# Atom 14 interactions\n",
    "matrix_q7[14][13] = b\n",
    "matrix_q7[14][15] = b\n",
    "\n",
    "# Atom 15 interactions\n",
    "matrix_q7[15][14] = b\n",
    "matrix_q7[15][16] = b\n",
    "\n",
    "# Atom 16 interactions\n",
    "matrix_q7[16][11] = b\n",
    "matrix_q7[16][15] = b\n",
    "matrix_q7[16][17] = b\n",
    "\n",
    "# Atom 17 interaction\n",
    "matrix_q7[17][16] = b\n",
    "matrix_q7[17][18] = b\n",
    "# Change with different path length\n",
    "matrix_q7[17][20]\n",
    "\n",
    "# Atom 18 interaction\n",
    "matrix_q7[18][17] = b\n",
    "matrix_q7[18][19] = b\n",
    "\n",
    "# Atom 19 interaction\n",
    "matrix_q7[19][10] = b\n",
    "matrix_q7[19][18] = b\n",
    "\n",
    "# Atoms in chain\n",
    "# Atom 20 interactions\n",
    "matrix_q7[20][7] = b\n",
    "matrix_q7[20][17] = b\n",
    "\n",
    "# print(matrix_q7)"
   ]
  },
  {
   "cell_type": "code",
   "execution_count": 247,
   "metadata": {},
   "outputs": [],
   "source": [
    "# Huckel matrix for dye q9\n",
    "matrix_q9 = np.zeros((23, 23))"
   ]
  },
  {
   "cell_type": "code",
   "execution_count": 248,
   "metadata": {},
   "outputs": [],
   "source": [
    "# Ring 1\n",
    "# Atom 0 interaction (Nitrogen)\n",
    "matrix_q9[0][9] = b\n",
    "matrix_q9[0][1] = b\n",
    "\n",
    "# Atom 1 interactions\n",
    "matrix_q9[1][0] = b\n",
    "matrix_q9[1][2] = b\n",
    "matrix_q9[1][6] = b\n",
    "\n",
    "# Atom 2 interactions\n",
    "matrix_q9[2][1] = b\n",
    "matrix_q9[2][3] = b\n",
    "\n",
    "# Atom 3 interactions\n",
    "matrix_q9[3][2] = b\n",
    "matrix_q9[3][4] = b\n",
    "\n",
    "# Atom 4 interactions\n",
    "matrix_q9[4][3] = b\n",
    "matrix_q9[4][5] = b\n",
    "\n",
    "# Atom 5 interactions\n",
    "matrix_q9[5][4] = b\n",
    "matrix_q9[5][6] = b\n",
    "\n",
    "# Atom 6 interactions\n",
    "matrix_q9[6][1] = b\n",
    "matrix_q9[6][5] = b\n",
    "matrix_q9[6][7] = b\n",
    "\n",
    "# Atom 7 interaction\n",
    "matrix_q9[7][6] = b\n",
    "matrix_q9[7][8] = b\n",
    "# Change with different path length\n",
    "matrix_q9[7][20]\n",
    "\n",
    "# Atom 8 interaction\n",
    "matrix_q9[8][7] = b\n",
    "matrix_q9[8][9] = b\n",
    "\n",
    "# Atom 9 interaction\n",
    "matrix_q9[9][0] = b\n",
    "matrix_q9[9][8] = b\n",
    "\n",
    "#  Ring 2\n",
    "# Atom 10 interaction (Nitrogen)\n",
    "matrix_q9[10][11] = b\n",
    "matrix_q9[10][19] = b\n",
    "\n",
    "# Atom 11 interactions\n",
    "matrix_q9[11][10] = b\n",
    "matrix_q9[11][12] = b\n",
    "matrix_q9[11][16] = b\n",
    "\n",
    "# Atom 12 interactions\n",
    "matrix_q9[12][11] = b\n",
    "matrix_q9[12][13] = b\n",
    "\n",
    "# Atom 13 interactions\n",
    "matrix_q9[13][12] = b\n",
    "matrix_q9[13][14] = b\n",
    "\n",
    "# Atom 14 interactions\n",
    "matrix_q9[14][13] = b\n",
    "matrix_q9[14][15] = b\n",
    "\n",
    "# Atom 15 interactions\n",
    "matrix_q9[15][14] = b\n",
    "matrix_q9[15][16] = b\n",
    "\n",
    "# Atom 16 interactions\n",
    "matrix_q9[16][11] = b\n",
    "matrix_q9[16][15] = b\n",
    "matrix_q9[16][17] = b\n",
    "\n",
    "# Atom 17 interaction\n",
    "matrix_q9[17][16] = b\n",
    "matrix_q9[17][18] = b\n",
    "# Change with different path length\n",
    "matrix_q9[17][22]\n",
    "\n",
    "# Atom 18 interaction\n",
    "matrix_q9[18][17] = b\n",
    "matrix_q9[18][19] = b\n",
    "\n",
    "# Atom 19 interaction\n",
    "matrix_q9[19][10] = b\n",
    "matrix_q9[19][18] = b\n",
    "\n",
    "# Atoms in chain\n",
    "# Atom 20 interactions\n",
    "matrix_q9[20][7] = b\n",
    "matrix_q9[20][21] = b\n",
    "\n",
    "# Atom 21 interactions\n",
    "matrix_q9[21][20] = b\n",
    "matrix_q9[21][22] = b\n",
    "\n",
    "# Atom 22 interactions\n",
    "matrix_q9[22][17] = b\n",
    "matrix_q9[22][21] = b\n",
    "\n",
    "# print(matrix_q9)"
   ]
  },
  {
   "cell_type": "code",
   "execution_count": 249,
   "metadata": {},
   "outputs": [],
   "source": [
    "# Huckel matrix for dye q11\n",
    "matrix_q11 = np.zeros((25, 25))"
   ]
  },
  {
   "cell_type": "code",
   "execution_count": 250,
   "metadata": {},
   "outputs": [],
   "source": [
    "# Ring 1\n",
    "# Atom 0 interaction (Nitrogen)\n",
    "matrix_q11[0][9] = b\n",
    "matrix_q11[0][1] = b\n",
    "\n",
    "# Atom 1 interactions\n",
    "matrix_q11[1][0] = b\n",
    "matrix_q11[1][2] = b\n",
    "matrix_q11[1][6] = b\n",
    "\n",
    "# Atom 2 interactions\n",
    "matrix_q11[2][1] = b\n",
    "matrix_q11[2][3] = b\n",
    "\n",
    "# Atom 3 interactions\n",
    "matrix_q11[3][2] = b\n",
    "matrix_q11[3][4] = b\n",
    "\n",
    "# Atom 4 interactions\n",
    "matrix_q11[4][3] = b\n",
    "matrix_q11[4][5] = b\n",
    "\n",
    "# Atom 5 interactions\n",
    "matrix_q11[5][4] = b\n",
    "matrix_q11[5][6] = b\n",
    "\n",
    "# Atom 6 interactions\n",
    "matrix_q11[6][1] = b\n",
    "matrix_q11[6][5] = b\n",
    "matrix_q11[6][7] = b\n",
    "\n",
    "# Atom 7 interaction\n",
    "matrix_q11[7][6] = b\n",
    "matrix_q11[7][8] = b\n",
    "# Change with different path length\n",
    "matrix_q11[7][20]\n",
    "\n",
    "# Atom 8 interaction\n",
    "matrix_q11[8][7] = b\n",
    "matrix_q11[8][9] = b\n",
    "\n",
    "# Atom 9 interaction\n",
    "matrix_q11[9][0] = b\n",
    "matrix_q11[9][8] = b\n",
    "\n",
    "#  Ring 2\n",
    "# Atom 10 interaction (Nitrogen)\n",
    "matrix_q11[10][11] = b\n",
    "matrix_q11[10][19] = b\n",
    "\n",
    "# Atom 11 interactions\n",
    "matrix_q11[11][10] = b\n",
    "matrix_q11[11][12] = b\n",
    "matrix_q11[11][16] = b\n",
    "\n",
    "# Atom 12 interactions\n",
    "matrix_q11[12][11] = b\n",
    "matrix_q11[12][13] = b\n",
    "\n",
    "# Atom 13 interactions\n",
    "matrix_q11[13][12] = b\n",
    "matrix_q11[13][14] = b\n",
    "\n",
    "# Atom 14 interactions\n",
    "matrix_q11[14][13] = b\n",
    "matrix_q11[14][15] = b\n",
    "\n",
    "# Atom 15 interactions\n",
    "matrix_q11[15][14] = b\n",
    "matrix_q11[15][16] = b\n",
    "\n",
    "# Atom 16 interactions\n",
    "matrix_q11[16][11] = b\n",
    "matrix_q11[16][15] = b\n",
    "matrix_q11[16][17] = b\n",
    "\n",
    "# Atom 17 interaction\n",
    "matrix_q11[17][16] = b\n",
    "matrix_q11[17][18] = b\n",
    "# Change with different path length\n",
    "matrix_q11[17][24]\n",
    "\n",
    "# Atom 18 interaction\n",
    "matrix_q11[18][17] = b\n",
    "matrix_q11[18][19] = b\n",
    "\n",
    "# Atom 19 interaction\n",
    "matrix_q11[19][10] = b\n",
    "matrix_q11[19][18] = b\n",
    "\n",
    "# Atoms in chain\n",
    "# Atom 20 interactions\n",
    "matrix_q11[20][7] = b\n",
    "matrix_q11[20][21] = b\n",
    "\n",
    "# Atom 21 interactions\n",
    "matrix_q11[21][20] = b\n",
    "matrix_q11[21][22] = b\n",
    "\n",
    "# Atom 22 interactions\n",
    "matrix_q11[22][21] = b\n",
    "matrix_q11[22][23] = b\n",
    "\n",
    "# Atom 23 interactions\n",
    "matrix_q11[23][22] = b\n",
    "matrix_q11[23][24] = b\n",
    "\n",
    "# Atom 24 interactions\n",
    "matrix_q11[24][17] = b\n",
    "matrix_q11[24][23] = b\n",
    "\n",
    "# print(matrix_q11)"
   ]
  },
  {
   "attachments": {},
   "cell_type": "markdown",
   "metadata": {},
   "source": [
    "## Lambdas"
   ]
  },
  {
   "cell_type": "code",
   "execution_count": 251,
   "metadata": {},
   "outputs": [
    {
     "name": "stdout",
     "output_type": "stream",
     "text": [
      "[ 6.31190802  6.31190802  4.43503116  4.43503116  3.57090802  3.57090802\n",
      "  2.741       2.741       1.69403116  1.69403116  0.         -1.69403116\n",
      " -1.69403116 -2.741      -2.741      -3.57090802 -3.57090802 -4.43503116\n",
      " -4.43503116 -6.31190802 -6.31190802]\n"
     ]
    }
   ],
   "source": [
    "# p3\n",
    "eigenvalues, eigenvectors = huckel_energy(matrix_p3)\n",
    "print(eigenvalues)"
   ]
  },
  {
   "cell_type": "code",
   "execution_count": 252,
   "metadata": {},
   "outputs": [
    {
     "name": "stdout",
     "output_type": "stream",
     "text": [
      "Full Huckel Model (all carbon) lambda max for p3 is 730.004 nm\n"
     ]
    }
   ],
   "source": [
    "dE_p3 = 1.69403116 / 6.242e+18 # J\n",
    "lambda_p3 = 6.626e-34 * 2.99e8 / dE_p3\n",
    "print(\"Full Huckel Model (all carbon) lambda max for p3 is {:.3f} nm\".format(lambda_p3 * 10**9))"
   ]
  },
  {
   "cell_type": "code",
   "execution_count": 253,
   "metadata": {},
   "outputs": [
    {
     "name": "stdout",
     "output_type": "stream",
     "text": [
      "[ 6.31190802e+00  6.31190802e+00  4.43503116e+00  4.43503116e+00\n",
      "  3.87635937e+00  3.57090802e+00  3.57090802e+00  2.74100000e+00\n",
      "  2.74100000e+00  1.69403116e+00  1.69403116e+00 -7.35704839e-16\n",
      " -1.69403116e+00 -1.69403116e+00 -2.74100000e+00 -2.74100000e+00\n",
      " -3.57090802e+00 -3.57090802e+00 -3.87635937e+00 -4.43503116e+00\n",
      " -4.43503116e+00 -6.31190802e+00 -6.31190802e+00]\n"
     ]
    }
   ],
   "source": [
    "# p5\n",
    "eigenvalues, eigenvectors = huckel_energy(matrix_p5)\n",
    "print(eigenvalues)"
   ]
  },
  {
   "cell_type": "code",
   "execution_count": 254,
   "metadata": {},
   "outputs": [
    {
     "name": "stdout",
     "output_type": "stream",
     "text": [
      "Full Huckel Model (all carbon) lambda max for p5 is 730.004 nm\n"
     ]
    }
   ],
   "source": [
    "dE_p5 = 1.69403116 / 6.242e+18 # J\n",
    "lambda_p5 = 6.626e-34 * 2.99e8 / dE_p5\n",
    "print(\"Full Huckel Model (all carbon) lambda max for p5 is {:.3f} nm\".format(lambda_p5 * 10**9))"
   ]
  },
  {
   "cell_type": "code",
   "execution_count": 255,
   "metadata": {},
   "outputs": [
    {
     "name": "stdout",
     "output_type": "stream",
     "text": [
      "[ 6.31190802e+00  6.31190802e+00  4.74755126e+00  4.43503116e+00\n",
      "  4.43503116e+00  3.57090802e+00  3.57090802e+00  2.74100000e+00\n",
      "  2.74100000e+00  2.74100000e+00  1.69403116e+00  1.69403116e+00\n",
      " -2.60147496e-16 -1.69403116e+00 -1.69403116e+00 -2.74100000e+00\n",
      " -2.74100000e+00 -2.74100000e+00 -3.57090802e+00 -3.57090802e+00\n",
      " -4.43503116e+00 -4.43503116e+00 -4.74755126e+00 -6.31190802e+00\n",
      " -6.31190802e+00]\n"
     ]
    }
   ],
   "source": [
    "# p7\n",
    "eigenvalues, eigenvectors = huckel_energy(matrix_p7)\n",
    "print(eigenvalues)"
   ]
  },
  {
   "cell_type": "code",
   "execution_count": 256,
   "metadata": {},
   "outputs": [
    {
     "name": "stdout",
     "output_type": "stream",
     "text": [
      "Full Huckel Model (all carbon) lambda max for p7 is 730.004 nm\n"
     ]
    }
   ],
   "source": [
    "dE_p7 = 1.694031161 / 6.242e+18 # J\n",
    "lambda_p7 = 6.626e-34 * 2.99e8 / dE_p7\n",
    "print(\"Full Huckel Model (all carbon) lambda max for p7 is {:.3f} nm\".format(lambda_p7 * 10**9))"
   ]
  },
  {
   "cell_type": "code",
   "execution_count": 257,
   "metadata": {},
   "outputs": [
    {
     "name": "stdout",
     "output_type": "stream",
     "text": [
      "[ 6.31190802  6.31190802  4.43503116  4.43503116  3.57090802  3.57090802\n",
      "  2.741       2.741       1.69403116  1.69403116  0.         -1.69403116\n",
      " -1.69403116 -2.741      -2.741      -3.57090802 -3.57090802 -4.43503116\n",
      " -4.43503116 -6.31190802 -6.31190802]\n"
     ]
    }
   ],
   "source": [
    "# q7\n",
    "eig, eigenvectors = huckel_energy(matrix_q7)\n",
    "print(eig)"
   ]
  },
  {
   "cell_type": "code",
   "execution_count": 258,
   "metadata": {},
   "outputs": [
    {
     "name": "stdout",
     "output_type": "stream",
     "text": [
      "Full Huckel Model (all carbon) lambda max for q7 is 730.004 nm\n"
     ]
    }
   ],
   "source": [
    "dE_q7 = 1.69403116 / 6.242e+18 # J\n",
    "lambda_q7 = 6.626e-34 * 2.99e8 / dE_q7\n",
    "print(\"Full Huckel Model (all carbon) lambda max for q7 is {:.3f} nm\".format(lambda_q7 * 10**9))"
   ]
  },
  {
   "cell_type": "code",
   "execution_count": 259,
   "metadata": {},
   "outputs": [
    {
     "name": "stdout",
     "output_type": "stream",
     "text": [
      "[ 6.31190802e+00  6.31190802e+00  4.43503116e+00  4.43503116e+00\n",
      "  3.87635937e+00  3.57090802e+00  3.57090802e+00  2.74100000e+00\n",
      "  2.74100000e+00  1.69403116e+00  1.69403116e+00 -1.80800570e-15\n",
      " -1.69403116e+00 -1.69403116e+00 -2.74100000e+00 -2.74100000e+00\n",
      " -3.57090802e+00 -3.57090802e+00 -3.87635937e+00 -4.43503116e+00\n",
      " -4.43503116e+00 -6.31190802e+00 -6.31190802e+00]\n"
     ]
    }
   ],
   "source": [
    "# q9\n",
    "eig, eigenvectors = huckel_energy(matrix_q9)\n",
    "print(eig)"
   ]
  },
  {
   "cell_type": "code",
   "execution_count": 260,
   "metadata": {},
   "outputs": [
    {
     "name": "stdout",
     "output_type": "stream",
     "text": [
      "Full Huckel Model (all carbon) lambda max for q9 is 730.004 nm\n"
     ]
    }
   ],
   "source": [
    "dE_q9 = 1.69403116 / 6.242e+18 # J\n",
    "lambda_q9 = 6.626e-34 * 2.99e8 / dE_q9\n",
    "print(\"Full Huckel Model (all carbon) lambda max for q9 is {:.3f} nm\".format(lambda_q9 * 10**9))"
   ]
  },
  {
   "cell_type": "code",
   "execution_count": 261,
   "metadata": {},
   "outputs": [
    {
     "name": "stdout",
     "output_type": "stream",
     "text": [
      "[ 6.31190802e+00  6.31190802e+00  4.74755126e+00  4.43503116e+00\n",
      "  4.43503116e+00  3.57090802e+00  3.57090802e+00  2.74100000e+00\n",
      "  2.74100000e+00  2.74100000e+00  1.69403116e+00  1.69403116e+00\n",
      "  2.24123320e-15 -1.69403116e+00 -1.69403116e+00 -2.74100000e+00\n",
      " -2.74100000e+00 -2.74100000e+00 -3.57090802e+00 -3.57090802e+00\n",
      " -4.43503116e+00 -4.43503116e+00 -4.74755126e+00 -6.31190802e+00\n",
      " -6.31190802e+00]\n"
     ]
    }
   ],
   "source": [
    "# q11\n",
    "eig, eigenvectors = huckel_energy(matrix_q11)\n",
    "print(eig)"
   ]
  },
  {
   "cell_type": "code",
   "execution_count": 262,
   "metadata": {},
   "outputs": [
    {
     "name": "stdout",
     "output_type": "stream",
     "text": [
      "Full Huckel Model (all carbon) lambda max for q11 is 730.004 nm\n"
     ]
    }
   ],
   "source": [
    "dE_q11 = 1.69403116 / 6.242e+18 # J\n",
    "lambda_q11 = 6.626e-34 * 2.99e8 / dE_q11\n",
    "print(\"Full Huckel Model (all carbon) lambda max for q11 is {:.3f} nm\".format(lambda_q11 * 10**9))"
   ]
  },
  {
   "attachments": {},
   "cell_type": "markdown",
   "metadata": {},
   "source": [
    "Note that for every dye, no matter the chain length between the aromatic end groups HMO theory predicts __identical HOMO-LUMO gaps__."
   ]
  },
  {
   "attachments": {},
   "cell_type": "markdown",
   "metadata": {},
   "source": [
    "# Full HMO + adjustment for nitrogen potential"
   ]
  },
  {
   "attachments": {},
   "cell_type": "markdown",
   "metadata": {},
   "source": [
    "Up until this point, $\\beta$ for nitrogen and carbon have been treated the same (essentially we've treated nitrogen as carbon). However, the potential an electron on nitrogen feels is very different than that felt on carbon, due to differences in electronegativity. So, $\\beta$ can be adjusted by adding an additional parameter $h$."
   ]
  },
  {
   "cell_type": "code",
   "execution_count": 263,
   "metadata": {},
   "outputs": [
    {
     "name": "stdout",
     "output_type": "stream",
     "text": [
      "[ 2.74154817e+02  2.74154817e+02  5.88400929e+00  5.88400929e+00\n",
      "  4.22858565e+00  4.22858565e+00  2.74100000e+00  2.74100000e+00\n",
      "  2.73275697e+00  2.73275697e+00  0.00000000e+00 -2.24231496e-02\n",
      " -2.24231496e-02 -2.74100000e+00 -2.74100000e+00 -2.74920193e+00\n",
      " -2.74920193e+00 -4.23210204e+00 -4.23210204e+00 -5.89644205e+00\n",
      " -5.89644205e+00]\n"
     ]
    }
   ],
   "source": [
    "h = -100 #arbitrary\n",
    "matrix_N_p3 = matrix_p3.copy()\n",
    "matrix_N_p3[0][0] = b * h\n",
    "matrix_N_p3[10][10] = b * h\n",
    "eigenvalues, eigenvectors = huckel_energy(matrix_N_p3)\n",
    "print(eigenvalues)"
   ]
  },
  {
   "cell_type": "code",
   "execution_count": 264,
   "metadata": {},
   "outputs": [
    {
     "name": "stdout",
     "output_type": "stream",
     "text": [
      "Full Huckel Model (all carbon) + adjustment for nitrogen lambda max for p3 is 452.528 nm\n"
     ]
    }
   ],
   "source": [
    "dE_p3_N = 2.73275697 / 6.242e+18 # J\n",
    "lambda_p3_N = 6.626e-34 * 2.99e8 / dE_p3_N\n",
    "print(\"Full Huckel Model (all carbon) + adjustment for nitrogen lambda max for p3 is {:.3f} nm\".format(lambda_p3_N * 10**9))"
   ]
  },
  {
   "attachments": {},
   "cell_type": "markdown",
   "metadata": {},
   "source": [
    "This is markedly better than the previous predicition of 730 nm. However, when this same approach is taken for dye p5, we get the same result."
   ]
  },
  {
   "cell_type": "code",
   "execution_count": 265,
   "metadata": {},
   "outputs": [
    {
     "name": "stdout",
     "output_type": "stream",
     "text": [
      "[ 2.74154817e+02  2.74154817e+02  5.88400929e+00  5.88400929e+00\n",
      "  4.22858565e+00  4.22858565e+00  3.87635937e+00  2.74100000e+00\n",
      "  2.74100000e+00  2.73275697e+00  2.73275697e+00  4.70673082e-14\n",
      " -2.24231496e-02 -2.24231496e-02 -2.74100000e+00 -2.74100000e+00\n",
      " -2.74920193e+00 -2.74920193e+00 -3.87635937e+00 -4.23210204e+00\n",
      " -4.23210204e+00 -5.89644205e+00 -5.89644205e+00]\n"
     ]
    }
   ],
   "source": [
    "matrix_N_p5 = matrix_p5.copy()\n",
    "matrix_N_p5[0][0] = b * h\n",
    "matrix_N_p5[10][10] = b * h\n",
    "eigenvalues, eigenvectors = huckel_energy(matrix_N_p5)\n",
    "print(eigenvalues)"
   ]
  },
  {
   "cell_type": "code",
   "execution_count": 266,
   "metadata": {},
   "outputs": [
    {
     "name": "stdout",
     "output_type": "stream",
     "text": [
      "Full Huckel Model (all carbon) + adjustment for nitrogen lambda max for p5 is 452.528 nm\n"
     ]
    }
   ],
   "source": [
    "dE_p5_N = 2.73275697 / 6.242e+18 # J\n",
    "lambda_p5_N = 6.626e-34 * 2.99e8 / dE_p5_N\n",
    "print(\"Full Huckel Model (all carbon) + adjustment for nitrogen lambda max for p5 is {:.3f} nm\".format(lambda_p5_N * 10**9))"
   ]
  },
  {
   "attachments": {},
   "cell_type": "markdown",
   "metadata": {},
   "source": [
    "This is an interesting result. It means that the HOMO-LUMO gap for the dyes is somehow independent of the chain length between the two aromatic end groups."
   ]
  },
  {
   "attachments": {},
   "cell_type": "markdown",
   "metadata": {},
   "source": [
    "# Why the same $\\Delta E$?"
   ]
  },
  {
   "attachments": {},
   "cell_type": "markdown",
   "metadata": {},
   "source": [
    "So, why do we get the same $\\Delta E$ for all of the dyes? We believe that the major contributor to the HOMO-LUMO energy are the aromatic end groups, and the connecting chain plays a very minor role."
   ]
  },
  {
   "cell_type": "code",
   "execution_count": 267,
   "metadata": {},
   "outputs": [
    {
     "data": {
      "image/png": "[encoded data removed]",
      "text/plain": [
       "<Figure size 800x600 with 2 Axes>"
      ]
     },
     "metadata": {},
     "output_type": "display_data"
    }
   ],
   "source": [
    "eigenvalues, eigenvectors = huckel_energy(matrix_p3)\n",
    "plt.figure(figsize=((8,6)))\n",
    "from matplotlib.colors import BoundaryNorm\n",
    "bounds = np.arange(np.min(eigenvectors),np.max(eigenvectors),.05)\n",
    "cmap = plt.get_cmap('seismic')\n",
    "idx=np.searchsorted(bounds,0)\n",
    "bounds=np.insert(bounds,idx,0)\n",
    "norm = BoundaryNorm(bounds, cmap.N)\n",
    "plt.imshow(eigenvectors,interpolation='none',norm=norm,cmap=cmap)\n",
    "plt.colorbar()\n",
    "plt.show()"
   ]
  },
  {
   "attachments": {},
   "cell_type": "markdown",
   "metadata": {},
   "source": [
    "This figure shows the the sign of the orbitals on each conjugated atom in dye p3. Note on the bottom right the clock of same sign orbitals. This is one of the aromatic end groups. There is a transition in the center (the HOMO-LUMO gap), where the end group that was all in-phase swaps, and the other aromatic end group becomes all in-phase. This indicates that the transition in HOMO-LUMO energy is only related to the aromatic end groups, and is independent of the significanlty smaller center chain."
   ]
  },
  {
   "cell_type": "code",
   "execution_count": 268,
   "metadata": {},
   "outputs": [
    {
     "data": {
      "image/png": "[encoded data removed]",
      "text/plain": [
       "<Figure size 800x600 with 2 Axes>"
      ]
     },
     "metadata": {},
     "output_type": "display_data"
    }
   ],
   "source": [
    "eigenvalues, eigenvectors = huckel_energy(matrix_p3)\n",
    "plt.figure(figsize=((8,6)))\n",
    "from matplotlib.colors import BoundaryNorm\n",
    "bounds = np.arange(np.min(eigenvectors),np.max(eigenvectors),.05)\n",
    "cmap = plt.get_cmap('seismic')\n",
    "idx=np.searchsorted(bounds,0)\n",
    "bounds=np.insert(bounds,idx,0)\n",
    "norm = BoundaryNorm(bounds, cmap.N)\n",
    "plt.imshow(eigenvectors,interpolation='none',norm=norm,cmap=cmap)\n",
    "plt.colorbar()\n",
    "plt.show()"
   ]
  },
  {
   "cell_type": "code",
   "execution_count": 269,
   "metadata": {},
   "outputs": [
    {
     "data": {
      "image/png": "[encoded data removed]",
      "text/plain": [
       "<Figure size 800x600 with 2 Axes>"
      ]
     },
     "metadata": {},
     "output_type": "display_data"
    }
   ],
   "source": [
    "eigenvalues, eigenvectors = huckel_energy(matrix_q11)\n",
    "plt.figure(figsize=((8,6)))\n",
    "from matplotlib.colors import BoundaryNorm\n",
    "bounds = np.arange(np.min(eigenvectors),np.max(eigenvectors),.05)\n",
    "cmap = plt.get_cmap('seismic')\n",
    "idx=np.searchsorted(bounds,0)\n",
    "bounds=np.insert(bounds,idx,0)\n",
    "norm = BoundaryNorm(bounds, cmap.N)\n",
    "plt.imshow(eigenvectors,interpolation='none',norm=norm,cmap=cmap)\n",
    "plt.colorbar()\n",
    "plt.show()"
   ]
  },
  {
   "attachments": {},
   "cell_type": "markdown",
   "metadata": {},
   "source": [
    "And the result is independent of the specific dye. However, when the connecting chain becomes longer, the trend breaks down slightly - the contibution from the connecting chain is greater."
   ]
  },
  {
   "attachments": {},
   "cell_type": "markdown",
   "metadata": {},
   "source": [
    "## Aromatic end group $\\Delta E$"
   ]
  },
  {
   "attachments": {},
   "cell_type": "markdown",
   "metadata": {},
   "source": [
    "Because of the previous result, we also examined the band gap for the aromatic end groups. "
   ]
  },
  {
   "attachments": {},
   "cell_type": "markdown",
   "metadata": {},
   "source": [
    "### Matrix"
   ]
  },
  {
   "cell_type": "code",
   "execution_count": 270,
   "metadata": {},
   "outputs": [],
   "source": [
    "# Huckel matrix napthelene (single)\n",
    "matrix_nap_sing = np.zeros((11, 11))"
   ]
  },
  {
   "cell_type": "code",
   "execution_count": 271,
   "metadata": {},
   "outputs": [],
   "source": [
    "# Ring 1\n",
    "# Atom 0 interaction (Nitrogen)\n",
    "matrix_nap_sing[0][9] = b\n",
    "matrix_nap_sing[0][1] = b\n",
    "\n",
    "# Atom 1 interactions\n",
    "matrix_nap_sing[1][0] = b\n",
    "matrix_nap_sing[1][2] = b\n",
    "matrix_nap_sing[1][6] = b\n",
    "\n",
    "# Atom 2 interactions\n",
    "matrix_nap_sing[2][1] = b\n",
    "matrix_nap_sing[2][3] = b\n",
    "\n",
    "# Atom 3 interactions\n",
    "matrix_nap_sing[3][2] = b\n",
    "matrix_nap_sing[3][4] = b\n",
    "\n",
    "# Atom 4 interactions\n",
    "matrix_nap_sing[4][3] = b\n",
    "matrix_nap_sing[4][5] = b\n",
    "\n",
    "# Atom 5 interactions\n",
    "matrix_nap_sing[5][4] = b\n",
    "matrix_nap_sing[5][6] = b\n",
    "\n",
    "# Atom 6 interactions\n",
    "matrix_nap_sing[6][1] = b\n",
    "matrix_nap_sing[6][5] = b\n",
    "matrix_nap_sing[6][7] = b\n",
    "\n",
    "# Atom 7 interaction\n",
    "matrix_nap_sing[7][6] = b\n",
    "matrix_nap_sing[7][8] = b\n",
    "\n",
    "# Atom 8 interaction\n",
    "matrix_nap_sing[8][7] = b\n",
    "matrix_nap_sing[8][9] = b\n",
    "\n",
    "# Atom 9 interaction\n",
    "matrix_nap_sing[9][0] = b\n",
    "matrix_nap_sing[9][8] = b"
   ]
  },
  {
   "attachments": {},
   "cell_type": "markdown",
   "metadata": {},
   "source": [
    "### Lambda"
   ]
  },
  {
   "cell_type": "code",
   "execution_count": 272,
   "metadata": {},
   "outputs": [
    {
     "name": "stdout",
     "output_type": "stream",
     "text": [
      "[ 6.31190802  4.43503116  3.57090802  2.741       1.69403116  0.\n",
      " -1.69403116 -2.741      -3.57090802 -4.43503116 -6.31190802]\n"
     ]
    }
   ],
   "source": [
    "eigenvalues, eigenvectors = huckel_energy(matrix_nap_sing)\n",
    "print(eigenvalues)"
   ]
  },
  {
   "cell_type": "code",
   "execution_count": 273,
   "metadata": {},
   "outputs": [
    {
     "name": "stdout",
     "output_type": "stream",
     "text": [
      "Full Huckel Model lambda for aromatic end group is 365.009 nm\n"
     ]
    }
   ],
   "source": [
    "dE_nap =  1.694 * 2 / 6.242e+18 # J\n",
    "lambda_nap = 6.626e-34 * 2.99e8 / dE_nap\n",
    "print(\"Full Huckel Model lambda for aromatic end group is {:.3f} nm\".format(lambda_nap * 10**9))"
   ]
  },
  {
   "attachments": {},
   "cell_type": "markdown",
   "metadata": {},
   "source": [
    "Note that this value is __exactly half__ of the lambda max for all the dyes using the full HMO matrix. This relationship is interesting, but has not been explored further."
   ]
  }
 ],
 "metadata": {
  "kernelspec": {
   "display_name": "oliviero",
   "language": "python",
   "name": "python3"
  },
  "language_info": {
   "codemirror_mode": {
    "name": "ipython",
    "version": 3
   },
   "file_extension": ".py",
   "mimetype": "text/x-python",
   "name": "python",
   "nbconvert_exporter": "python",
   "pygments_lexer": "ipython3",
   "version": "3.10.9"
  },
  "orig_nbformat": 4
 },
 "nbformat": 4,
 "nbformat_minor": 2
}
